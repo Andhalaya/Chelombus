{
 "cells": [
  {
   "cell_type": "code",
   "execution_count": 7,
   "metadata": {},
   "outputs": [],
   "source": [
    "import pandas as pd\n",
    "\n",
    "from config import DATA_FILE_PATH, CHUNKSIZE\n",
    "\n",
    "\n",
    "data_chunks = pd.read_csv(DATA_FILE_PATH, chunksize= CHUNKSIZE)"
   ]
  },
  {
   "cell_type": "code",
   "execution_count": 21,
   "metadata": {},
   "outputs": [
    {
     "name": "stdout",
     "output_type": "stream",
     "text": [
      "0\n",
      "74\n",
      "37888    CC(=O)O[C@@]12CO[C@@H]1C[C@H](O)[C@@]1(C)C(=O)...\n",
      "37889    CO[C@@]12[C@H](COC(N)=O)C3=C(C(=O)C(C)=C(N)C3=...\n",
      "37890    CC[C@@]1(O)C(=O)OCc2c1cc1n(c2=O)Cc2cc3ccccc3nc2-1\n",
      "37891    C[C@]12CC[C@H](O)C[C@@]1(O)CC[C@@H]1[C@@H]2CC[...\n",
      "37892    O=C1c2ccccc2-c2nc3[nH]c(=O)[nH]c(=O)c3c(-c3ccc...\n",
      "                               ...                        \n",
      "38365    Cc1cccc(C)c1OCC(=O)NC[C@](O)(Cc1ccccc1)C(=O)N1...\n",
      "38366    Cc1cccc(C)c1OCC(=O)NC[C@@](O)(Cc1ccccc1)C(=O)N...\n",
      "38367    Cc1cccc(C)c1OCC(=O)NC[C@@](O)(Cc1ccccc1)C(=O)N...\n",
      "38368    Cc1cccc(C)c1OCC(=O)NC[C@](O)(Cc1ccccc1)C(=O)N1...\n",
      "38369    Cc1cccc(C)c1OCC(=O)NC[C@](O)(CCc1ccccc1)C(=O)N...\n",
      "Name: canonical_smiles, Length: 482, dtype: object\n"
     ]
    }
   ],
   "source": [
    "# Load in chunks\n",
    "num_chunks = 0\n",
    "\n",
    "# Process chunks\n",
    "for idx, chunk in enumerate(data_chunks): \n",
    "    num_chunks += 1\n",
    "\n",
    "print(num_chunks)\n",
    "print(idx)\n",
    "print(chunk['canonical_smiles'])"
   ]
  },
  {
   "cell_type": "code",
   "execution_count": 16,
   "metadata": {},
   "outputs": [],
   "source": [
    "class DataHandler: \n",
    "    def find_input_type(self, file_path=DATA_FILE_PATH):\n",
    "        self.file_path = file_path\n",
    "        if file_path.split('.')[-1] == 'csv':\n",
    "            return True\n",
    "        elif file_path.split('.')[-1] == 'txt':\n",
    "            return False \n",
    "        else: \n",
    "            raise ValueError('Unsupported input file. Only .txt and .csv are supported')"
   ]
  },
  {
   "cell_type": "code",
   "execution_count": 22,
   "metadata": {},
   "outputs": [
    {
     "data": {
      "text/plain": [
       "True"
      ]
     },
     "execution_count": 22,
     "metadata": {},
     "output_type": "execute_result"
    }
   ],
   "source": [
    "data_handler = DataHandler()\n",
    "\n",
    "data_handler.find_input_type(file_path='test.csv')\n",
    "\n"
   ]
  },
  {
   "cell_type": "code",
   "execution_count": 23,
   "metadata": {},
   "outputs": [
    {
     "data": {
      "text/plain": [
       "'c:\\\\Users\\\\aflor\\\\Work\\\\chelombus'"
      ]
     },
     "execution_count": 23,
     "metadata": {},
     "output_type": "execute_result"
    }
   ],
   "source": [
    "import os\n",
    "os.path.abspath(os.curdir)"
   ]
  }
 ],
 "metadata": {
  "kernelspec": {
   "display_name": "tmap",
   "language": "python",
   "name": "python3"
  },
  "language_info": {
   "codemirror_mode": {
    "name": "ipython",
    "version": 3
   },
   "file_extension": ".py",
   "mimetype": "text/x-python",
   "name": "python",
   "nbconvert_exporter": "python",
   "pygments_lexer": "ipython3",
   "version": "3.7.12"
  }
 },
 "nbformat": 4,
 "nbformat_minor": 2
}
